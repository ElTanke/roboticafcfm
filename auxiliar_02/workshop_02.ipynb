{
  "nbformat": 4,
  "nbformat_minor": 0,
  "metadata": {
    "colab": {
      "name": "workshop_02.ipynb",
      "provenance": [],
      "collapsed_sections": [],
      "toc_visible": true
    },
    "kernelspec": {
      "name": "python3",
      "display_name": "Python 3"
    }
  },
  "cells": [
    {
      "cell_type": "markdown",
      "metadata": {
        "id": "MxW9TdWeJyMc",
        "colab_type": "text"
      },
      "source": [
        "# Shape Detection\n",
        "\n",
        "La Transformada de Hough es una técnica que permite detectar geometrías en una imagen, mientras esta pueda ser parametrizada matemáticamente. Mediante su matriz acumuladora de votos, logra detectar recta y círculos incluso si estos presentan ruido o irregularidades.\n",
        "\n",
        "En este worshop utilizaremos las implementaciones de la Transformada de Hough en OpenCV para trackear y orientar un cuaderno en una imagen.\n",
        "\n",
        "<img src=\"https://raw.githubusercontent.com/cherrerab/roboticafcfm/master/auxiliar_02/bin/banner.png\" height=\"200\">"
      ]
    },
    {
      "cell_type": "markdown",
      "metadata": {
        "id": "yYEgPD0wJ1OJ",
        "colab_type": "text"
      },
      "source": [
        "## OpenCV\n",
        "\n",
        "La Open Surce Computer Vision es una librería especializada en herramientas de visión computacional y en todo lo que respecta a visión artificial en general. De este modo provee de funcionalidades de todo tipo de complejidad, desde operaciones básicas de procesamiento de imágenes, hasta algoritmos de reconocimiento de objetos.\n",
        "\n",
        "Por supuesto, esta librería cuenta con su documentación correspondiente. En esta puede encontrar descripciones más detalladas de sus funcionalidades, así como también ejemplos, tutoriales y otros.\n",
        "\n",
        "https://docs.opencv.org/master/\n",
        "\n",
        "<img src=\"https://raw.githubusercontent.com/cherrerab/roboticafcfm/master/auxiliar_01/bin/opencv_logo.png\" height=\"200\">"
      ]
    },
    {
      "cell_type": "markdown",
      "metadata": {
        "id": "h9XHLkxVQgtT",
        "colab_type": "text"
      },
      "source": [
        "## Load Image\n",
        "La imagen `ref_01.jpg` con que trabajaremos en este workshop se encuentra en el repositorio del curso, de este modo lo primero que haremos será clonar este github."
      ]
    },
    {
      "cell_type": "code",
      "metadata": {
        "id": "Je3QbORQJowA",
        "colab_type": "code",
        "colab": {}
      },
      "source": [
        "!git clone https://github.com/cherrerab/roboticafcfm.git\n",
        "%cd /content/roboticafcfm"
      ],
      "execution_count": null,
      "outputs": []
    },
    {
      "cell_type": "markdown",
      "metadata": {
        "id": "pqUKAuYKJCH1",
        "colab_type": "text"
      },
      "source": [
        "Ahora, antes de utilizar la Transformadad de Hough debemos procesar la imagen tal de aislar lo más posible la geometría o forma que queremos detectar. Para esto, dependiendo de las características de la imagen, bien podemos usar binarización directa o segementación por color.\n",
        "\n",
        "Primero analicemos el contenido de la imagen `ref_01.jpg`"
      ]
    },
    {
      "cell_type": "code",
      "metadata": {
        "id": "GbUkbY7LRPwJ",
        "colab_type": "code",
        "colab": {}
      },
      "source": [
        "import numpy as np\n",
        "import matplotlib.pyplot as plt\n",
        "\n",
        "import cv2\n",
        "\n",
        "# dirección de la imagen\n",
        "img_path = 'auxiliar_02//ref_01.jpg'\n",
        "\n",
        "# cargar imagen\n",
        "img = \n",
        "\n",
        "# transformar a RGB\n",
        "img_rgb = \n",
        "\n",
        "# print shape de img\n",
        "print('\\nimg.shape:', img.shape)\n",
        "\n",
        "# plotear imagen en RGB\n",
        "plt.figure( figsize=(10,10) )\n",
        "plt.imshow( img_rgb )"
      ],
      "execution_count": null,
      "outputs": []
    },
    {
      "cell_type": "markdown",
      "metadata": {
        "id": "uGGUNdmNK9fC",
        "colab_type": "text"
      },
      "source": [
        "De esta manera, podemos ver que `ref.jpg` consiste en la foto de un cuaderno verde inclinado. Aprovecharemos este color para utilizar segementación por color y así asilar el cuaderno."
      ]
    },
    {
      "cell_type": "markdown",
      "metadata": {
        "id": "MMaa0uZlLcGf",
        "colab_type": "text"
      },
      "source": [
        "## Color Segmentation\n",
        "\n",
        "Utilizaremos la misma estrategia de segmentacióón que en la auxiliar anterior. Analizaremos la distribución de valores `HSV` en la imagen y a partir de esta determinaremos un rango para binarizar la imagen y generar el `mask`."
      ]
    },
    {
      "cell_type": "code",
      "metadata": {
        "id": "tO32gG0BUF7_",
        "colab_type": "code",
        "colab": {}
      },
      "source": [
        "# transformar imagen a HSV\n",
        "img_hsv = \n",
        "\n",
        "# extraer canal HUE de la imagen\n",
        "img_hue = \n",
        "\n",
        "# plotear canal HUE de la imagen\n",
        "plt.figure( figsize=(9, 9) )\n",
        "plt.title( 'Hue Map' )\n",
        "plt.imshow( img_hue, cmap='hsv')\n",
        "\n",
        "# extraer canal SAT de la imagen\n",
        "img_sat = \n",
        "\n",
        "# plotear canal SAT de la imagen\n",
        "plt.figure( figsize=(9, 9) )\n",
        "plt.title( 'Saturation Map' )\n",
        "plt.imshow( img_sat, cmap='jet')\n",
        "\n",
        "# extraer valor de un punto del cuaderno\n",
        "sample = img_hsv[300, 600, :]\n",
        "print('valores HSV de referencia: ', sample)"
      ],
      "execution_count": null,
      "outputs": []
    },
    {
      "cell_type": "markdown",
      "metadata": {
        "id": "yIX5Tq2aOC5K",
        "colab_type": "text"
      },
      "source": [
        "Podemos observar que en los distintos canales HSV los valores son sumamente uniformes en lo que respecta a la geometría del cuaderno. Tomando como valores de referencia `(70 221 127)`, definiremos nuestro rango de segmentación en torno a este punto."
      ]
    },
    {
      "cell_type": "code",
      "metadata": {
        "id": "WtOgtE1BO8kA",
        "colab_type": "code",
        "colab": {}
      },
      "source": [
        "# definir límite inferior\n",
        "lower_hsv = \n",
        "\n",
        "# definir límite superior\n",
        "upper_hsv = \n",
        "\n",
        "# segmentar mediante cv2.inRange\n",
        "mask = cv2.inRange(img_hsv, lower_hsv, upper_hsv)\n",
        "\n",
        "# visualizar resultado\n",
        "plt.figure( figsize=(9, 9) )\n",
        "plt.title( 'Mask' )\n",
        "\n",
        "plt.imshow(mask, cmap='gray')"
      ],
      "execution_count": null,
      "outputs": []
    },
    {
      "cell_type": "markdown",
      "metadata": {
        "id": "0Eg9wb9NP9he",
        "colab_type": "text"
      },
      "source": [
        "Hemos logrado aislar el cuaderno completamente del resto de la imagen. No obstante, dado que la Transformada de Hough de rectas requiere, por supuesto, que existan rectas en la imagen, tenemos que extraer los bordes de esta imagen para poder procesarla. Para esto podemos utilizar el método `cv2.Canny`.\n",
        "\n",
        "[Documentación Canny Edge Detection OpenCV](https://opencv-python-tutroals.readthedocs.io/en/latest/py_tutorials/py_imgproc/py_canny/py_canny.html)"
      ]
    },
    {
      "cell_type": "code",
      "metadata": {
        "id": "7LkCRvZRRPll",
        "colab_type": "code",
        "colab": {}
      },
      "source": [
        "# extraer bordes mediante cv2.Canny\n",
        "edges = \n",
        "\n",
        "# visualizar bordes resultantes\n",
        "plt.figure( figsize=(9, 9) )\n",
        "plt.title( 'Edges' )\n",
        "\n",
        "plt.imshow(edges, cmap='gray')"
      ],
      "execution_count": null,
      "outputs": []
    },
    {
      "cell_type": "markdown",
      "metadata": {
        "id": "YMiIS4FTRvHC",
        "colab_type": "text"
      },
      "source": [
        "Perfecto! Ahora podemos aplicar la Transformada de Hough para detectar y trackear las rectas en la imagen."
      ]
    },
    {
      "cell_type": "markdown",
      "metadata": {
        "id": "KW7z6UKjR7S3",
        "colab_type": "text"
      },
      "source": [
        "## Hough Line Transform\n",
        "\n",
        "Todo el algoritmo de la Transformada de Hough ha sido implementado en OpenCV mediante el método `cv2.HoughLines`. Este método retorna un `np.array` con los parámetros `(rho, theta)` de cada una de las rectas detectadas. Por supuesto, para operar requiere una imagen binaria como nuestra imagen `edges`, la resolución de búsqueda para los parámetros `(rho, theta)`, y el umbral de votos para segmentar las rectas detectadas.\n",
        "\n",
        "[Documentación Hough Lines OpenCV](https://opencv-python-tutroals.readthedocs.io/en/latest/py_tutorials/py_imgproc/py_houghlines/py_houghlines.html)"
      ]
    },
    {
      "cell_type": "code",
      "metadata": {
        "id": "wFBgMC7vTl_y",
        "colab_type": "code",
        "colab": {}
      },
      "source": [
        "# extraer rectas mediante cv2.HoughLines\n",
        "rho_res, theta_res = 1, 2*np.pi/180\n",
        "threshold =\n",
        "\n",
        "lines = cv2.HoughLines(edges, rho_res, theta_res, threshold)\n",
        "\n",
        "# print resultado de rectas\n",
        "print('rectas detectadas:\\n', lines)"
      ],
      "execution_count": null,
      "outputs": []
    },
    {
      "cell_type": "markdown",
      "metadata": {
        "id": "WZfrTrQvUxR_",
        "colab_type": "text"
      },
      "source": [
        "Notemos que el resultado consiste en una lista de listas. Por lo que al procesar esta información debemos cuidar el como la extraemos.\n",
        "\n",
        "Ahora bien, una vez tenemos los parámetros `(rho, theta)` para cada recta, podemos transformar esta parametrización tal de poder plotear las rectas identificadas en la imagen mediante la función `cv2.line`."
      ]
    },
    {
      "cell_type": "code",
      "metadata": {
        "id": "Mao9JnSrVXSH",
        "colab_type": "code",
        "colab": {}
      },
      "source": [
        "# cargar imagen\n",
        "ret = cv2.imread('auxiliar_02//ref_01.jpg')\n",
        "ret = cv2.cvtColor(ret, cv2.COLOR_BGR2RGB)\n",
        "\n",
        "# para cada recta detectada\n",
        "for line in lines:\n",
        "  # obtener parámetros (rho, theta)\n",
        "  rho, theta = line[0]\n",
        "\n",
        "  a = np.cos(theta)\n",
        "  b = np.sin(theta)\n",
        "  x0 = a*rho\n",
        "  y0 = b*rho\n",
        "\n",
        "  # obtener recta (x1,y1), (x2,y2)\n",
        "  x1 = int(x0 + 1000*(-b))\n",
        "  y1 = int(y0 + 1000*(a))\n",
        "  x2 = int(x0 - 1000*(-b))\n",
        "  y2 = int(y0 - 1000*(a))\n",
        "\n",
        "  # plotear recta en la imagen con cv2.line\n",
        "  color = (0, 255, 255)\n",
        "  thickness = 4\n",
        "  ret = cv2.line(ret, (x1, y1), (x2, y2), color, thickness)\n",
        "\n",
        "# visualizar rectas resultantes\n",
        "plt.figure( figsize=(9, 9) )\n",
        "plt.title( 'Hough Lines' )\n",
        "\n",
        "plt.imshow(ret, cmap='gray')"
      ],
      "execution_count": null,
      "outputs": []
    }
  ]
}