{
  "nbformat": 4,
  "nbformat_minor": 0,
  "metadata": {
    "colab": {
      "name": "workshop_01.ipynb",
      "provenance": [],
      "toc_visible": true
    },
    "kernelspec": {
      "name": "python3",
      "display_name": "Python 3"
    }
  },
  "cells": [
    {
      "cell_type": "markdown",
      "metadata": {
        "id": "MxW9TdWeJyMc",
        "colab_type": "text"
      },
      "source": [
        "# Color Segmentation\n",
        "\n",
        "La segmentación, si bien bajo muchos aspectos consiste en una operación bastante simple, es un proceso bastante útil a la hora de desarrollar algoritmos de detección de objetos o tracking. En términos simples, segmentar una imagen consiste en seccionar o aislar zonas de una imagen en función de algún atributo, como por ejemplo, intensidad o color.\n",
        "\n",
        "En este tutorial aprenderá los primeros pasos en cuanto a procesamiento de imágenes, desde cargar las imágenes como arreglos numéricos, hasta manipular sus valores mediante filtros y segmentadores.\n",
        "\n",
        "<img src=\"https://raw.githubusercontent.com/cherrerab/roboticafcfm/master/auxiliar_01/bin/shrek_ret.png\" height=\"200\">"
      ]
    },
    {
      "cell_type": "markdown",
      "metadata": {
        "id": "yYEgPD0wJ1OJ",
        "colab_type": "text"
      },
      "source": [
        "## OpenCV\n",
        "\n",
        "La Open Surce Computer Vision es una librería especializada en herramientas de visión computacional y en todo lo que respecta a visión artificial en general. De este modo provee de funcionalidades de todo tipo de complejidad, desde operaciones básicas de procesamiento de imágenes, hasta algoritmos de reconocimiento de objetos.\n",
        "\n",
        "Por supuesto, esta librería cuenta con su documentación correspondiente. En esta puede encontrar descripciones más detalladas de sus funcionalidades, así como también ejemplos, tutoriales y otros.\n",
        "\n",
        "https://docs.opencv.org/master/\n",
        "\n",
        "<img src=\"https://raw.githubusercontent.com/cherrerab/roboticafcfm/master/auxiliar_01/bin/opencv_logo.png\" height=\"200\">"
      ]
    },
    {
      "cell_type": "markdown",
      "metadata": {
        "id": "h9XHLkxVQgtT",
        "colab_type": "text"
      },
      "source": [
        "## Load an Image\n",
        "La imagen `shrek.jpg` con que trabajaremos en este workshop se encuentra en el repositorio del curso, de este modo lo primero que haremos será clonar este github."
      ]
    },
    {
      "cell_type": "code",
      "metadata": {
        "id": "Je3QbORQJowA",
        "colab_type": "code",
        "colab": {}
      },
      "source": [
        "!git clone https://github.com/cherrerab/roboticafcfm.git\n",
        "%cd /content/roboticafcfm"
      ],
      "execution_count": null,
      "outputs": []
    },
    {
      "cell_type": "markdown",
      "metadata": {
        "id": "BoI7MMetRQsb",
        "colab_type": "text"
      },
      "source": [
        "Para cargar imágenes mediante OpenCV lo más común es utilizar la función `cv2.imread`, la cual recibe únicamente la dirección del archivo. En este caso, la imagen se encuentra en `\\content\\roboticafcfm\\auxiliar_01\\shrek.jpg`."
      ]
    },
    {
      "cell_type": "code",
      "metadata": {
        "id": "GbUkbY7LRPwJ",
        "colab_type": "code",
        "colab": {}
      },
      "source": [
        "import numpy as np\n",
        "import cv2\n",
        "\n",
        "# dirección de la imagen\n",
        "img_path = 'auxiliar_01//shrek.jpg'\n",
        "\n",
        "# load image\n",
        "img = \n",
        "\n",
        "# print type de img\n",
        "print('type(img):', type(img))\n",
        "\n",
        "print('\\nimg.shape:', img.shape)\n",
        "print('\\nimg.dtype:', img.dtype)\n"
      ],
      "execution_count": null,
      "outputs": []
    },
    {
      "cell_type": "markdown",
      "metadata": {
        "id": "Zk9keu0yUOZE",
        "colab_type": "text"
      },
      "source": [
        "Podemos notar que la variable `img` generada al cargar la imagen consiste en un `np.array` de tres dimensiones de valores `uint8`, o bien, valores enteros positivos de 8-bits. El tamaño `(675, 1200, 3)` indica que la imagen tiene un `height` de 675 px, un `width` de 1200 px, y tres `channels` BGR.\n",
        "\n",
        "Debemos poner atención a que los canales que entrega `cv2.imread` están en BGR y no en RGB, como normalmente esperaríamos. Para observar esta diferencia, podemos visualizar la imagen mediante `matplotlib` y la función `plt.imshow`."
      ]
    },
    {
      "cell_type": "code",
      "metadata": {
        "id": "tO32gG0BUF7_",
        "colab_type": "code",
        "colab": {}
      },
      "source": [
        "import matplotlib.pyplot as plt\n",
        "\n",
        "# plotear imagen en BGR\n",
        "plt.figure( figsize=(10,10) )\n",
        "plt.imshow( img )"
      ],
      "execution_count": null,
      "outputs": []
    },
    {
      "cell_type": "markdown",
      "metadata": {
        "id": "qtcldxByWHsK",
        "colab_type": "text"
      },
      "source": [
        "Para corregir esto, basta usar la funcionalidad `cv2.cvtColor` que permite transformar el `colorspace` de una imagen directamente a otro. Dado que en este caso queremos pasar de BGR a RGB, utilizaremos el código `cv2.COLOR_BGR2RGB`."
      ]
    },
    {
      "cell_type": "code",
      "metadata": {
        "id": "lKsO4V12W18C",
        "colab_type": "code",
        "colab": {}
      },
      "source": [
        "import matplotlib.pyplot as plt\n",
        "\n",
        "# transformar imagen a RGB\n",
        "img_rgb = \n",
        "\n",
        "# plotear imagen en RGB\n",
        "plt.figure( figsize=(10,10) )\n",
        "plt.imshow( img_rgb )"
      ],
      "execution_count": null,
      "outputs": []
    },
    {
      "cell_type": "markdown",
      "metadata": {
        "id": "I9PkZC9qXRdb",
        "colab_type": "text"
      },
      "source": [
        "## HSV Analysis\n",
        "La segmentación por color finalmente consiste en binzarizar nuestra imagen considerando únicamente un rango en base a la rueda de color. De este modo, aquellos pixeles cuyos valores se encuentren dentro del rango pasarán a `1`, mientras que aquellos que no, a `0`.\n",
        "\n",
        "Pero, cómo determinamos este rango?\n",
        "\n",
        "La estrategia más directa es hacerlo al ojímetro y ajustar mediante prueba y error. Pero el método más confiable, o sistemático, es utilizar histrogramas. Siguiendo este método, primero transformaremos la imagen a HSV utilizando `cv2.cvtColor`, y luego generaremos su histograma de valores `HUE` mediante `plt.hist`."
      ]
    },
    {
      "cell_type": "code",
      "metadata": {
        "id": "TOl8F0GyacID",
        "colab_type": "code",
        "colab": {}
      },
      "source": [
        "# transformar imagen a HSV\n",
        "img_hsv = \n",
        "\n",
        "# plotear imagen en HSV\n",
        "plt.figure( figsize=(10,10) )\n",
        "plt.title( 'HSV image' )\n",
        "plt.imshow( img_hsv )\n",
        "\n",
        "# obtener array de valores HUE\n",
        "img_HUE = \n",
        "\n",
        "# plotear array de valores HUE\n",
        "plt.figure( figsize=(10,10) )\n",
        "plt.title( 'Hue Map' )\n",
        "plt.imshow( img_HUE, cmap='jet')\n",
        "\n",
        "# plotear su histograma\n",
        "img_HUE = img_HUE.flatten()\n",
        "\n",
        "plt.figure( figsize=(10,5) )\n",
        "plt.title( 'Hue Values' )\n",
        "plt.xlabel( 'Valor Hue' ); plt.ylabel( 'Frecuencia' )\n",
        "\n",
        "_ = plt.hist( img_HUE, 70 )"
      ],
      "execution_count": null,
      "outputs": []
    },
    {
      "cell_type": "markdown",
      "metadata": {
        "id": "B9vQNKi-cWvO",
        "colab_type": "text"
      },
      "source": [
        "Podemos notar del histograma que existen dos zonas que concentran los valores `HUE` dentro de la imagen. La más obvia quizás sea la que se encuentra centrada en `110` que, siguiendo la rueda de calor, se corresponde con el color azúl y por tanto, con los pixeles que conforman el cielo en la imagen.\n",
        "\n",
        "Ahora, la zona que más nos interesa es la que se encuentra en torno a `28`. De acuerdo a la rueda de color, este rango se corresponde con amarillos verdosos, lo cual tiene sentido, pues Shrek en realidad no es de un verde muy vibrante.\n",
        "\n",
        "Teniendo estos valores en cuenta, ahora podemos definir un rango para realizar la segmentación. Para esto, utilizaremos la función `cv2.inRange` la cual binarizará la imagen a partir de los límites que le entreguemos."
      ]
    },
    {
      "cell_type": "code",
      "metadata": {
        "id": "kDgNp__Rb_dH",
        "colab_type": "code",
        "colab": {}
      },
      "source": [
        "# definir límite inferior\n",
        "lower_hsv = \n",
        "\n",
        "# definir límite superior\n",
        "upper_hsv = \n",
        "\n",
        "# segmentar mediante cv2.inRange\n",
        "mask = \n",
        "\n",
        "# visualizar resultado\n",
        "plt.figure( figsize=(10, 10) )\n",
        "plt.title( 'Mask' )\n",
        "\n",
        "plt.imshow(mask, cmap='gray')"
      ],
      "execution_count": null,
      "outputs": []
    },
    {
      "cell_type": "markdown",
      "metadata": {
        "id": "-hZFtFWfgnh7",
        "colab_type": "text"
      },
      "source": [
        "Perturbador.\n",
        "\n",
        "Si bien hemos logrado un buen resultado, se podría decir que este no es muy limpio. Este `mask` tiene bastante ruido y se ha filtrado un poco de los girasoles del fondo. Podemos controlar esto si aplicamos previamente un filtro gaussiano sobre la imagen, mediante `cv2.GaussianBlur`."
      ]
    },
    {
      "cell_type": "code",
      "metadata": {
        "id": "ncIXq5xVhh1R",
        "colab_type": "code",
        "colab": {}
      },
      "source": [
        "# aplicar filtro gaussiano sobre la imagen RGB\n",
        "rgb_blur = \n",
        "\n",
        "# visualizar imagen suavizada\n",
        "plt.figure( figsize=(10, 10) )\n",
        "plt.title( 'Blur' )\n",
        "\n",
        "plt.imshow(rgb_blur)\n",
        "\n",
        "# transformar a HSV\n",
        "hsv_blur = \n",
        "\n",
        "# segmentar mediante cv2.inRange\n",
        "mask = \n",
        "\n",
        "# visualizar resultado\n",
        "plt.figure( figsize=(10, 10) )\n",
        "plt.title( 'Mask' )\n",
        "\n",
        "plt.imshow(mask, cmap='gray')\n",
        "\n"
      ],
      "execution_count": null,
      "outputs": []
    }
  ]
}