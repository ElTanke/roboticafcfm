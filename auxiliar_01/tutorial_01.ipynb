{
  "nbformat": 4,
  "nbformat_minor": 0,
  "metadata": {
    "colab": {
      "name": "tutorial_01",
      "provenance": [],
      "collapsed_sections": [],
      "toc_visible": true
    },
    "kernelspec": {
      "name": "python3",
      "display_name": "Python 3"
    }
  },
  "cells": [
    {
      "cell_type": "markdown",
      "metadata": {
        "id": "o_MyvkTQEYW1",
        "colab_type": "text"
      },
      "source": [
        "# Tutorial Numpy\n",
        "Juan C. Zagal - Cristián Herrera\n",
        "\n",
        "El objetivo de este notebook consiste en introducir y repasar la librería Numpy pues será extensamente utilizada a lo largo del curso.\n",
        "\n",
        "Dado que la manipulación de matrices y arreglos numéricos resulta escencial en lo que respecta a procesamiento de datos, imágenes y visión computacional, Numpy se ha posicionado como una librería escencial a la hora de abordar proyectos de procesamiento y análisis numérico. De este modo es necesario poseer una buena base de esta librería y sus funcionalidades antes de seguir con proyectos de mayor complejidad.\n",
        "\n",
        "## Documentación\n",
        "Pueden revisar la documentación de Numpy en el siguiente link:\n",
        "- https://numpy.org/doc/stable/\n",
        "\n"
      ]
    },
    {
      "cell_type": "markdown",
      "metadata": {
        "id": "nRd33E1XKEzl",
        "colab_type": "text"
      },
      "source": [
        "# Numpy\n",
        "\n",
        "<img src=\"https://upload.wikimedia.org/wikipedia/commons/thumb/3/31/NumPy_logo_2020.svg/1024px-NumPy_logo_2020.svg.png\" width=\"400\">\n",
        "\n",
        "\n",
        "Numpy provee de funcionalidades orientadas a la manipulación de arreglos multidimensionales. De este modo su objeto principal corresponde al arreglo multidimensional homogeneo `numpy.ndarray` o `numpy.array`. Los `numpy.array` consisten en tablas o matrices de elementos (del mismo tipo) que pueden ser indexados mediante tuplas de enteros. En numpy, las dimensiones son referenciadas como `axes`.\n",
        "\n",
        "Comencemos por importar la librería.\n",
        "\n"
      ]
    },
    {
      "cell_type": "code",
      "metadata": {
        "id": "x8tDsO09JycF",
        "colab_type": "code",
        "colab": {}
      },
      "source": [
        "import numpy as np"
      ],
      "execution_count": 1,
      "outputs": []
    },
    {
      "cell_type": "markdown",
      "metadata": {
        "id": "RXyfpRf4Nyrb",
        "colab_type": "text"
      },
      "source": [
        "Existen varios métodos que permiten crear o inicializar `np.arrays`, cada uno con su respectiva funcionalidad."
      ]
    },
    {
      "cell_type": "code",
      "metadata": {
        "id": "PMXt4LD5EEzU",
        "colab_type": "code",
        "colab": {
          "base_uri": "https://localhost:8080/",
          "height": 538
        },
        "outputId": "74ee28b5-fc9a-49fd-a390-c81fbe7b1ac4"
      },
      "source": [
        "# np.array: Crea un array a partir de la lista entregada.\n",
        "# note que se interpreta que una lista de listas corresponde a un 2D-array.\n",
        "# analogamente, un lista de listas de listas corresponde a un 3D-array.\n",
        "a = np.array( [ [1.5, 9.1, 2.9], [5.0, 6.3, 3.2], [0.0, 2.8, 7.3] ])\n",
        "print('np.array:\\n', a)\n",
        "\n",
        "# np.zeros: Crea un array de ceros a partir de las dimensiones entregadas.\n",
        "# las dimensiones se entregan en tuplas (m, n) -> (rows, cols)\n",
        "a = np.zeros( (3, 5) )\n",
        "print('\\nnp.zeros:\\n', a)\n",
        "\n",
        "# np.ones: Crea un array de unos a partir de las dimensiones entregadas.\n",
        "a = np.ones( (3, 4) )\n",
        "print('\\nnp.ones:\\n', a)\n",
        "\n",
        "# np.linspace: Crea un array de num valores equiespaciados dentro del rango.\n",
        "a = np.linspace( 0.0, 10.0, num=5 )\n",
        "print('\\nnp.linspace:\\n', a)\n",
        "\n",
        "# np.random.uniform: Crea un array de valores random a partir de una\n",
        "# distribución uniforme.\n",
        "a = np.random.uniform( 0.0, 10.0, (4, 4) )\n",
        "print('\\nnp.random.uniform:\\n', a)\n",
        "\n",
        "# np.random.normal: Crea un array de valores random a partir de una\n",
        "# distribución normal.\n",
        "a = np.random.normal( 0.0, 1.0, (5, 3) )\n",
        "print('\\nnp.random.normal:\\n', a)\n"
      ],
      "execution_count": 2,
      "outputs": [
        {
          "output_type": "stream",
          "text": [
            "np.array:\n",
            " [[1.5 9.1 2.9]\n",
            " [5.  6.3 3.2]\n",
            " [0.  2.8 7.3]]\n",
            "\n",
            "np.zeros:\n",
            " [[0. 0. 0. 0. 0.]\n",
            " [0. 0. 0. 0. 0.]\n",
            " [0. 0. 0. 0. 0.]]\n",
            "\n",
            "np.ones:\n",
            " [[1. 1. 1. 1.]\n",
            " [1. 1. 1. 1.]\n",
            " [1. 1. 1. 1.]]\n",
            "\n",
            "np.linspace:\n",
            " [ 0.   2.5  5.   7.5 10. ]\n",
            "\n",
            "np.random.uniform:\n",
            " [[9.50350794 3.24252364 7.66505659 7.3945732 ]\n",
            " [2.61615371 0.18186377 4.3232634  4.60253059]\n",
            " [7.52722831 5.12266122 9.9167527  5.0361519 ]\n",
            " [1.23183188 5.20369845 6.97631396 3.54208677]]\n",
            "\n",
            "np.random.normal:\n",
            " [[-0.05738492 -0.61443927 -0.61552394]\n",
            " [ 0.29553615 -0.49405691 -0.99951038]\n",
            " [ 0.48837051 -1.60501048  0.70120925]\n",
            " [ 1.362906    0.40651562 -0.44457444]\n",
            " [ 0.28175255  1.72036431  0.30510441]]\n"
          ],
          "name": "stdout"
        }
      ]
    },
    {
      "cell_type": "markdown",
      "metadata": {
        "id": "VYo7jBvtTTq2",
        "colab_type": "text"
      },
      "source": [
        "## Atributos\n",
        "Como toda clase o objeto, los `np.array` contienen varios atributos que entregan información sobre el objeto, como sus dimensiones y el tipo de elementos que contiene."
      ]
    },
    {
      "cell_type": "code",
      "metadata": {
        "id": "7bzE_CobT5fm",
        "colab_type": "code",
        "colab": {
          "base_uri": "https://localhost:8080/",
          "height": 86
        },
        "outputId": "232d0e2e-9c91-4009-9c4b-6201f0a9c8cf"
      },
      "source": [
        "a = np.random.normal( 0.0, 2.0, (5, 3, 7) )\n",
        "\n",
        "# :size: entrega la cantidad de elementos contenidos en el array.\n",
        "print('size:', a.size)\n",
        "\n",
        "# :ndim: entrega la cantidad de dimensiones del array.\n",
        "print('ndim:', a.ndim)\n",
        "\n",
        "# :shape: entrega el tamaño de cada una de las dimensiones del array.\n",
        "print('shape:', a.shape)\n",
        "\n",
        "# :dtype: entrega el tipo/type de los elementos contenidos.\n",
        "print('dtype:', a.dtype)\n"
      ],
      "execution_count": 3,
      "outputs": [
        {
          "output_type": "stream",
          "text": [
            "size: 105\n",
            "ndim: 3\n",
            "shape: (5, 3, 7)\n",
            "dtype: float64\n"
          ],
          "name": "stdout"
        }
      ]
    },
    {
      "cell_type": "markdown",
      "metadata": {
        "id": "LAIuE-66lrCW",
        "colab_type": "text"
      },
      "source": [
        "## Data Types\n",
        "Si nos fijamos en el resultado del bloque anterior, podemos notar que el type o `dtype` del `np.array` corresponde a `float64`. No obstante, no siempre querremos trabajar con este tipo de valores. Numpy soporta una gran variedad de tipos numéricos: booleans (`bool`), enteros con signo (`int`), enteros sin signo (`uint`), valores punto flotante (`floats`), e incluso valores complejos (`complex`).\n",
        "\n",
        "Para transformar el `dtype` de un `np.array` podemos emplear el método `np.array.astype` o usar el mismo `type` objetivo como una función.\n",
        "\n"
      ]
    },
    {
      "cell_type": "code",
      "metadata": {
        "id": "DWVbUe0_neuf",
        "colab_type": "code",
        "colab": {
          "base_uri": "https://localhost:8080/",
          "height": 469
        },
        "outputId": "97ccbe8e-0b2d-42a0-fb18-5a345ad9b018"
      },
      "source": [
        "# creamos un np.array de valores random float64\n",
        "a = np.random.uniform( 0.0, 255.0, (5, 5) )\n",
        "print('a:\\n', a)\n",
        "print('\\na.dtype: ', a.dtype)\n",
        "\n",
        "# transformamos el np.array a enteros sin signo de 8-bits (uint8)\n",
        "# este es el formato más común para trabajar imágenes digitales\n",
        "b = a.astype('uint8')\n",
        "print(\"\\na.astype('unit8'):\\n\", b)\n",
        "print('\\na.dtype: ', b.dtype)\n",
        "\n",
        "# podemos lograr la misma operación mediante np.uint8\n",
        "b = np.uint8(a)\n",
        "print('\\nnp.uint8(a):\\n', b)\n",
        "print('\\na.dtype: ', b.dtype)"
      ],
      "execution_count": 4,
      "outputs": [
        {
          "output_type": "stream",
          "text": [
            "a:\n",
            " [[ 72.46146023 127.89144748 220.81835494 170.3185392   24.29354852]\n",
            " [ 30.44022934  52.01971766 218.66328009 150.873901   220.87024875]\n",
            " [ 48.65358199  99.22557491  25.46021183  36.72933047 178.33383664]\n",
            " [ 95.88340595 208.65313782 131.28469979 119.94388572 101.1574158 ]\n",
            " [204.37917489  12.94725246  52.63275958   7.39534283  52.41064431]]\n",
            "\n",
            "a.dtype:  float64\n",
            "\n",
            "a.astype('unit8'):\n",
            " [[ 72 127 220 170  24]\n",
            " [ 30  52 218 150 220]\n",
            " [ 48  99  25  36 178]\n",
            " [ 95 208 131 119 101]\n",
            " [204  12  52   7  52]]\n",
            "\n",
            "a.dtype:  uint8\n",
            "\n",
            "np.uint8(a):\n",
            " [[ 72 127 220 170  24]\n",
            " [ 30  52 218 150 220]\n",
            " [ 48  99  25  36 178]\n",
            " [ 95 208 131 119 101]\n",
            " [204  12  52   7  52]]\n",
            "\n",
            "a.dtype:  uint8\n"
          ],
          "name": "stdout"
        }
      ]
    },
    {
      "cell_type": "markdown",
      "metadata": {
        "id": "bdbRbmj0VnG9",
        "colab_type": "text"
      },
      "source": [
        "## Indexing\n",
        "Similar a como los elementos son indexados en objetos `list`, los elementos de un `np.array` pueden ser indexados especificando cada una de sus dimensiones entre corchetes."
      ]
    },
    {
      "cell_type": "code",
      "metadata": {
        "id": "WaQuZ3pqVmdD",
        "colab_type": "code",
        "colab": {
          "base_uri": "https://localhost:8080/",
          "height": 278
        },
        "outputId": "1ce497a0-4a05-4dd3-e72a-c6d57d9d0cd8"
      },
      "source": [
        "a = np.random.uniform( 0.0, 100.0, (4, 6, 5) )\n",
        "\n",
        "# elemento en la celda (2, 5, 1)\n",
        "b = a[2, 5, 1]\n",
        "print('a[2, 5, 1]: ', b)\n",
        "\n",
        "# se puede acceder al último elemento en una dimensión mediante -1\n",
        "b = a[2, -1, -1]\n",
        "print('\\na[2, 5, 4]: ', b)\n",
        "\n",
        "# también es posible acceder a múltiples elementos en una única operación,\n",
        "# como también seleccionar sub-array dentro de un array.\n",
        "\n",
        "# start:stop accede a los elementos dentro del intervalo [start, stop)\n",
        "b = a[0:3, 5, 4]\n",
        "print('\\na[0:3, 5, 4]: ', b)\n",
        "\n",
        "# start: accede a los elementos desde start hasta el último elemento.\n",
        "b = a[2:, 5, 4]\n",
        "print('\\na[2:, 5, 4]: ', b)\n",
        "\n",
        "# :stop accede a los elementos desde el primer elemento hasta stop - 1.\n",
        "b = a[:3, 5, 4]\n",
        "print('\\na[:3, 5, 4]: ', b)\n",
        "\n",
        "# : accede a todos los elementos en esa dimensión.\n",
        "b = a[:, :, 0]\n",
        "print('\\na[:, :, 0]:\\n', b)\n"
      ],
      "execution_count": 5,
      "outputs": [
        {
          "output_type": "stream",
          "text": [
            "a[2, 5, 1]:  88.9780782997688\n",
            "\n",
            "a[2, 5, 4]:  4.937608094471779\n",
            "\n",
            "a[0:3, 5, 4]:  [11.84374107 80.62765719  4.93760809]\n",
            "\n",
            "a[2:, 5, 4]:  [4.93760809 2.72390195]\n",
            "\n",
            "a[:3, 5, 4]:  [11.84374107 80.62765719  4.93760809]\n",
            "\n",
            "a[:, :, 0]:\n",
            " [[31.92208199 38.3875565  96.02468406 79.06196751 81.79428307 67.8920571 ]\n",
            " [37.9600017  28.45851639 62.98593701 97.80088708 33.31426394 83.46931967]\n",
            " [95.75333937 84.08780508 87.37425833  3.32328222 92.61094833 21.6298918 ]\n",
            " [21.71898621 65.63935525 91.75844791 48.7475408  37.84825944 53.26039009]]\n"
          ],
          "name": "stdout"
        }
      ]
    },
    {
      "cell_type": "markdown",
      "metadata": {
        "id": "Ck-zwdGKd-Ht",
        "colab_type": "text"
      },
      "source": [
        "## Concatenar\n",
        "Concatenar consiste en combinar dos o más `np.array`, lo cual puede ser logrado mediante `np.concatenate`, `np.vstack`, `np.hstack` o `np.dstack`, dependiendo de la dimensión en la que se desee trabajar."
      ]
    },
    {
      "cell_type": "code",
      "metadata": {
        "id": "PAbVX5jcfL_H",
        "colab_type": "code",
        "colab": {
          "base_uri": "https://localhost:8080/",
          "height": 503
        },
        "outputId": "b287086b-d0f8-4e06-dc5c-c01d45a3f94a"
      },
      "source": [
        "a = np.random.uniform( 0.0, 100.0, (5, 3) )\n",
        "b = np.ones( (5, 3) )\n",
        "\n",
        "# np.concatenate concatena una secuencia de arrays en el axis especificado.\n",
        "c = np.concatenate( (a, b), axis=1 )\n",
        "print('np.concatenate (axis=1):\\n', c)\n",
        "\n",
        "# np.vstack es equivalente a np.concatenate en axis=0 (row wise)\n",
        "c = np.vstack( (a, b) )\n",
        "print('\\nnp.vstack:\\n', c)\n",
        "\n",
        "# np.hstack es equivalente a np.concatenate en axis=1 (col wise)\n",
        "c = np.hstack( (a, b) )\n",
        "print('\\nnp.hstack:\\n', c)\n",
        "\n",
        "# np.dstack es equivalente a np.concatenate en axis=2 (3D wise)\n",
        "c = np.dstack( (a, b) )\n",
        "print('\\nnp.dstack dimensions:\\n', c.shape)\n",
        "\n"
      ],
      "execution_count": 6,
      "outputs": [
        {
          "output_type": "stream",
          "text": [
            "np.concatenate (axis=1):\n",
            " [[58.48675687 75.91216746 52.09677571  1.          1.          1.        ]\n",
            " [ 5.37596694  4.17246007 32.4475662   1.          1.          1.        ]\n",
            " [37.22956001 86.05386787  5.88094755  1.          1.          1.        ]\n",
            " [42.8460094  86.0922918  52.67665499  1.          1.          1.        ]\n",
            " [63.18037271 56.5322149  28.03910267  1.          1.          1.        ]]\n",
            "\n",
            "np.vstack:\n",
            " [[58.48675687 75.91216746 52.09677571]\n",
            " [ 5.37596694  4.17246007 32.4475662 ]\n",
            " [37.22956001 86.05386787  5.88094755]\n",
            " [42.8460094  86.0922918  52.67665499]\n",
            " [63.18037271 56.5322149  28.03910267]\n",
            " [ 1.          1.          1.        ]\n",
            " [ 1.          1.          1.        ]\n",
            " [ 1.          1.          1.        ]\n",
            " [ 1.          1.          1.        ]\n",
            " [ 1.          1.          1.        ]]\n",
            "\n",
            "np.hstack:\n",
            " [[58.48675687 75.91216746 52.09677571  1.          1.          1.        ]\n",
            " [ 5.37596694  4.17246007 32.4475662   1.          1.          1.        ]\n",
            " [37.22956001 86.05386787  5.88094755  1.          1.          1.        ]\n",
            " [42.8460094  86.0922918  52.67665499  1.          1.          1.        ]\n",
            " [63.18037271 56.5322149  28.03910267  1.          1.          1.        ]]\n",
            "\n",
            "np.dstack dimensions:\n",
            " (5, 3, 2)\n"
          ],
          "name": "stdout"
        }
      ]
    },
    {
      "cell_type": "markdown",
      "metadata": {
        "id": "ND3PQNg9jwxa",
        "colab_type": "text"
      },
      "source": [
        "## Reshape\n",
        "Una de las funcionalidades más útiles de numpy es su capacidad de transformar y modificar el `shape` de un `np.array`. La forma más común de realizar esta operación es mediante `np.reshape`."
      ]
    },
    {
      "cell_type": "code",
      "metadata": {
        "id": "UpAKm9ksrCge",
        "colab_type": "code",
        "colab": {
          "base_uri": "https://localhost:8080/",
          "height": 347
        },
        "outputId": "483e14aa-ab03-4085-ae37-9448c8f45d43"
      },
      "source": [
        "a = np.arange(1, 25)\n",
        "print('a:\\n', a)\n",
        "\n",
        "# np.reshape recibe el array a transformar y una tupla de la nueva shape.\n",
        "# la nueva forma debe ser compatible con la cantidad de elementos original.\n",
        "b = np.reshape(a, (3, 8))\n",
        "print('\\nnp.reshape(a, (3, 3)):\\n', b)\n",
        "\n",
        "# en caso de querer inferir alguna de las nuevas dimensiones, se debe entregar\n",
        "# un -1 en la dimensión correspondiente\n",
        "b = np.reshape(a, (-1, 3, 2))\n",
        "print('\\nnp.reshape(a, (-1, 3, 2))[:, :, 0]:\\n', b[:, :, 0])\n",
        "\n",
        "# note que en el orden del reshape anterior, los elementos se van insertando\n",
        "# siguiendo la última dimensión, y a medida que esta se completa, se sigue con\n",
        "# la dimensión anterior.\n",
        "# esto puede ser controlado mediante el parámetro 'order'.\n",
        "b = np.reshape(a, (-1, 3, 2), order='F')\n",
        "print(\"\\nnp.reshape(a, (-1, 3, 2), order='F')[:, :, 0]:\\n\", b[:, :, 0])\n"
      ],
      "execution_count": 7,
      "outputs": [
        {
          "output_type": "stream",
          "text": [
            "a:\n",
            " [ 1  2  3  4  5  6  7  8  9 10 11 12 13 14 15 16 17 18 19 20 21 22 23 24]\n",
            "\n",
            "np.reshape(a, (3, 3)):\n",
            " [[ 1  2  3  4  5  6  7  8]\n",
            " [ 9 10 11 12 13 14 15 16]\n",
            " [17 18 19 20 21 22 23 24]]\n",
            "\n",
            "np.reshape(a, (-1, 3, 2))[:, :, 0]:\n",
            " [[ 1  3  5]\n",
            " [ 7  9 11]\n",
            " [13 15 17]\n",
            " [19 21 23]]\n",
            "\n",
            "np.reshape(a, (-1, 3, 2), order='F')[:, :, 0]:\n",
            " [[ 1  5  9]\n",
            " [ 2  6 10]\n",
            " [ 3  7 11]\n",
            " [ 4  8 12]]\n"
          ],
          "name": "stdout"
        }
      ]
    },
    {
      "cell_type": "markdown",
      "metadata": {
        "id": "CnZo9lljv7Sm",
        "colab_type": "text"
      },
      "source": [
        "En caso de requerir transformar un array a un array 1D, esto puede ser logrado mediante `np.ravel` o `flatten`."
      ]
    },
    {
      "cell_type": "code",
      "metadata": {
        "id": "iNas_XEVxeFK",
        "colab_type": "code",
        "colab": {
          "base_uri": "https://localhost:8080/",
          "height": 243
        },
        "outputId": "97fad179-76f6-4a1a-d652-21ead79fb0d0"
      },
      "source": [
        "a = np.arange(1, 10).reshape( (-1, 3) )\n",
        "print('a:\\n', a)\n",
        "\n",
        "b = a.flatten()\n",
        "print('\\na.flatten():\\n', b)\n",
        "\n",
        "b = a.ravel()\n",
        "print('\\na.ravel():\\n', b)\n",
        "\n",
        "# note que los resultados anteriores son distintos a a.reshape( (1, 9) ), pues\n",
        "# pues el shape de este último es (1, 9), mientras que a.flatten() es (9, ).\n",
        "b = a.reshape( (1, 9) )\n",
        "print('\\na.reshape( (1, 9) ):\\n', b)\n"
      ],
      "execution_count": 8,
      "outputs": [
        {
          "output_type": "stream",
          "text": [
            "a:\n",
            " [[1 2 3]\n",
            " [4 5 6]\n",
            " [7 8 9]]\n",
            "\n",
            "a.flatten():\n",
            " [1 2 3 4 5 6 7 8 9]\n",
            "\n",
            "a.ravel():\n",
            " [1 2 3 4 5 6 7 8 9]\n",
            "\n",
            "a.reshape( (1, 9) ):\n",
            " [[1 2 3 4 5 6 7 8 9]]\n"
          ],
          "name": "stdout"
        }
      ]
    }
  ]
}